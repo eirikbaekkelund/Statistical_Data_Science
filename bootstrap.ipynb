{
 "cells": [
  {
   "cell_type": "code",
   "execution_count": 2,
   "metadata": {},
   "outputs": [],
   "source": [
    "import numpy as np\n",
    "import pandas as pd\n",
    "import scipy.stats as st\n",
    "import matplotlib.pyplot as plt"
   ]
  },
  {
   "cell_type": "code",
   "execution_count": 3,
   "metadata": {},
   "outputs": [
    {
     "data": {
      "text/html": [
       "<div>\n",
       "<style scoped>\n",
       "    .dataframe tbody tr th:only-of-type {\n",
       "        vertical-align: middle;\n",
       "    }\n",
       "\n",
       "    .dataframe tbody tr th {\n",
       "        vertical-align: top;\n",
       "    }\n",
       "\n",
       "    .dataframe thead th {\n",
       "        text-align: right;\n",
       "    }\n",
       "</style>\n",
       "<table border=\"1\" class=\"dataframe\">\n",
       "  <thead>\n",
       "    <tr style=\"text-align: right;\">\n",
       "      <th></th>\n",
       "      <th>subject</th>\n",
       "      <th>placebo</th>\n",
       "      <th>old</th>\n",
       "      <th>new</th>\n",
       "    </tr>\n",
       "  </thead>\n",
       "  <tbody>\n",
       "    <tr>\n",
       "      <th>0</th>\n",
       "      <td>1</td>\n",
       "      <td>9243</td>\n",
       "      <td>17649</td>\n",
       "      <td>16449</td>\n",
       "    </tr>\n",
       "    <tr>\n",
       "      <th>1</th>\n",
       "      <td>2</td>\n",
       "      <td>9671</td>\n",
       "      <td>12013</td>\n",
       "      <td>14616</td>\n",
       "    </tr>\n",
       "    <tr>\n",
       "      <th>2</th>\n",
       "      <td>3</td>\n",
       "      <td>11792</td>\n",
       "      <td>19979</td>\n",
       "      <td>17274</td>\n",
       "    </tr>\n",
       "    <tr>\n",
       "      <th>3</th>\n",
       "      <td>4</td>\n",
       "      <td>13357</td>\n",
       "      <td>21816</td>\n",
       "      <td>23798</td>\n",
       "    </tr>\n",
       "    <tr>\n",
       "      <th>4</th>\n",
       "      <td>5</td>\n",
       "      <td>9055</td>\n",
       "      <td>13850</td>\n",
       "      <td>12560</td>\n",
       "    </tr>\n",
       "    <tr>\n",
       "      <th>5</th>\n",
       "      <td>6</td>\n",
       "      <td>6290</td>\n",
       "      <td>9806</td>\n",
       "      <td>10157</td>\n",
       "    </tr>\n",
       "    <tr>\n",
       "      <th>6</th>\n",
       "      <td>7</td>\n",
       "      <td>12412</td>\n",
       "      <td>17208</td>\n",
       "      <td>16570</td>\n",
       "    </tr>\n",
       "    <tr>\n",
       "      <th>7</th>\n",
       "      <td>8</td>\n",
       "      <td>18806</td>\n",
       "      <td>29044</td>\n",
       "      <td>26235</td>\n",
       "    </tr>\n",
       "  </tbody>\n",
       "</table>\n",
       "</div>"
      ],
      "text/plain": [
       "   subject  placebo    old    new\n",
       "0        1     9243  17649  16449\n",
       "1        2     9671  12013  14616\n",
       "2        3    11792  19979  17274\n",
       "3        4    13357  21816  23798\n",
       "4        5     9055  13850  12560\n",
       "5        6     6290   9806  10157\n",
       "6        7    12412  17208  16570\n",
       "7        8    18806  29044  26235"
      ]
     },
     "execution_count": 3,
     "metadata": {},
     "output_type": "execute_result"
    }
   ],
   "source": [
    "df = pd.read_table('placebo.csv')\n",
    "df"
   ]
  },
  {
   "cell_type": "code",
   "execution_count": 4,
   "metadata": {},
   "outputs": [],
   "source": [
    "def calculate_theta(df):\n",
    "    return np.mean( df['new'] - df['old']  ) / np.mean( df['old'] - df['placebo'] )\n",
    "\n",
    "def confidence_interval_pivot(theta_init, thetas, alpha=0.05):\n",
    "    \n",
    "    thetas.sort()    \n",
    "    a1 = int(len(thetas)*alpha)\n",
    "    a2 = int(len(thetas)*(1-alpha))\n",
    "\n",
    "    return (2*theta_init - thetas[a2], 2*theta_init - thetas[a1])\n",
    "\n",
    "def confidence_interval_normal(thetas, variance, alpha=0.05):\n",
    "    z_val = st.norm.ppf(1-(alpha/2))\n",
    "    mu = np.mean(thetas)\n",
    "    n = len(thetas)\n",
    "    std_dev = np.sqrt(variance)\n",
    "\n",
    "    return (mu - z_val*std_dev, mu + z_val*std_dev)\n",
    "\n",
    "def bootstrap_medical_test(df, n_iter):\n",
    "    \n",
    "    theta_init = np.mean(df['new'] - df['old'])/np.mean(df['old'] - df['placebo'])\n",
    "\n",
    "    df = pd.concat([df, df.iloc[np.random.randint(0,len(df)-1, size=1000)]])\n",
    "    theta_init = np.mean(df['new'] - df['old'])/np.mean(df['old'] - df['placebo'])\n",
    "    theta, variance = [], []\n",
    "    \n",
    "    for _ in range(n_iter):\n",
    "        df_mean = df.iloc[np.random.randint(0,len(df)-1, size=8)]\n",
    "        theta.append(calculate_theta(df_mean))\n",
    "\n",
    "    mu = np.mean(theta)\n",
    "    \n",
    "    for t in theta:\n",
    "        variance.append( (t - mu)**2  )\n",
    "    \n",
    "    variance = ( 1/n_iter * np.sum(variance) )\n",
    "   \n",
    "    confidence_interval1 = confidence_interval_normal(thetas=theta, variance=variance)\n",
    "    confidence_interval2 = confidence_interval_pivot(theta_init=theta_init, thetas=theta)\n",
    "    \n",
    "    print(\"Normal Confidence Interval: \", confidence_interval1)\n",
    "    print(\"Pivot Bootstrap Confidence Interval: \", confidence_interval2)\n",
    "\n",
    "    return np.array(theta), np.sqrt( 1/n_iter * np.sum(variance) )\n"
   ]
  },
  {
   "cell_type": "code",
   "execution_count": 5,
   "metadata": {},
   "outputs": [
    {
     "name": "stdout",
     "output_type": "stream",
     "text": [
      "Normal Confidence Interval:  (-0.23358809369221784, 0.21618036533984453)\n",
      "Pivot Bootstrap Confidence Interval:  (-0.23180601770034526, 0.13961126287491266)\n"
     ]
    }
   ],
   "source": [
    "theta, variance = bootstrap_medical_test(df,1000)\n"
   ]
  },
  {
   "cell_type": "code",
   "execution_count": 6,
   "metadata": {},
   "outputs": [
    {
     "data": {
      "image/png": "[encoded data removed]",
      "text/plain": [
       "<Figure size 432x288 with 1 Axes>"
      ]
     },
     "metadata": {
      "needs_background": "light"
     },
     "output_type": "display_data"
    }
   ],
   "source": [
    "plt.hist(theta, bins=80);\n",
    "plt.xlim(-1,1);"
   ]
  },
  {
   "cell_type": "markdown",
   "metadata": {},
   "source": [
    "* Data is quite normally distributed, which means the normal confidence interval is applicable.  \n",
    "\n",
    "* For more skewed data, the bootstrap applying medians around data mean is preferred."
   ]
  }
 ],
 "metadata": {
  "interpreter": {
   "hash": "fe3f05434994f8f40b62b7a842a4d284a09e5cdb62d98927152580f7c19a8881"
  },
  "kernelspec": {
   "display_name": "Python 3.9.11 ('base')",
   "language": "python",
   "name": "python3"
  },
  "language_info": {
   "codemirror_mode": {
    "name": "ipython",
    "version": 3
   },
   "file_extension": ".py",
   "mimetype": "text/x-python",
   "name": "python",
   "nbconvert_exporter": "python",
   "pygments_lexer": "ipython3",
   "version": "3.9.11"
  },
  "orig_nbformat": 4
 },
 "nbformat": 4,
 "nbformat_minor": 2
}

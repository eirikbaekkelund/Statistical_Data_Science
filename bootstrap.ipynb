{
 "cells": [
  {
   "cell_type": "code",
   "execution_count": 133,
   "metadata": {},
   "outputs": [],
   "source": [
    "import numpy as np\n",
    "import pandas as pd\n",
    "import scipy.stats as st\n",
    "import matplotlib.pyplot as plt"
   ]
  },
  {
   "cell_type": "code",
   "execution_count": 209,
   "metadata": {},
   "outputs": [],
   "source": [
    "df = pd.read_table('placebo.csv')"
   ]
  },
  {
   "cell_type": "code",
   "execution_count": 248,
   "metadata": {},
   "outputs": [],
   "source": [
    "def calculate_theta(df):\n",
    "    return np.mean( df['new'] - df['old']  ) / np.mean( df['old'] - df['placebo'] )\n",
    "\n",
    "def confidence_interval_pivot(theta_init, thetas, alpha=0.05):\n",
    "    \n",
    "    thetas.sort()    \n",
    "    a1 = int(len(thetas)*alpha)\n",
    "    a2 = int(len(thetas)*(1-alpha))\n",
    "\n",
    "    return (2*theta_init - thetas[a2], 2*theta_init - thetas[a1])\n",
    "\n",
    "def confidence_interval_normal(thetas, variance, alpha=0.05):\n",
    "    z_val = st.norm.ppf(1-(alpha/2))\n",
    "    mu = np.mean(thetas)\n",
    "    n = len(thetas)\n",
    "    std_dev = np.sqrt(variance)\n",
    "\n",
    "    return (mu - z_val*std_dev, mu + z_val*std_dev)\n",
    "\n",
    "def bootstrap_medical_test(df, n_iter):\n",
    "    \n",
    "    theta_init = np.mean(df['new'] - df['old'])/np.mean(df['old'] - df['placebo'])\n",
    "\n",
    "    df = pd.concat([df, df.iloc[np.random.randint(0,len(df)-1, size=1000)]])\n",
    "    theta_init = np.mean(df['new'] - df['old'])/np.mean(df['old'] - df['placebo'])\n",
    "    theta, variance = [], []\n",
    "    \n",
    "    for _ in range(n_iter):\n",
    "        df_mean = df.iloc[np.random.randint(0,len(df)-1, size=8)]\n",
    "        theta.append(calculate_theta(df_mean))\n",
    "\n",
    "    mu = np.mean(theta)\n",
    "    \n",
    "    for t in theta:\n",
    "        variance.append( (t - mu)**2  )\n",
    "    \n",
    "    variance = ( 1/n_iter * np.sum(variance) )\n",
    "   \n",
    "    confidence_interval1 = confidence_interval_normal(thetas=theta, variance=variance)\n",
    "    confidence_interval2 = confidence_interval_pivot(theta_init=theta_init, thetas=theta)\n",
    "    \n",
    "    print(\"Normal Confidence Interval: \", confidence_interval1)\n",
    "    print(\"Pivot Bootstrap Confidence Interval: \", confidence_interval2)\n",
    "\n",
    "    return np.array(theta), np.sqrt( 1/n_iter * np.sum(variance) )\n"
   ]
  },
  {
   "cell_type": "code",
   "execution_count": 249,
   "metadata": {},
   "outputs": [
    {
     "name": "stdout",
     "output_type": "stream",
     "text": [
      "Normal Confidence Interval:  (-0.2382292936388149, 0.1728653797712683)\n",
      "Pivot Bootstrap Confidence Interval:  (-0.22178543875759305, 0.1283202253764953)\n"
     ]
    }
   ],
   "source": [
    "theta, variance = bootstrap_medical_test(df,1000)\n"
   ]
  },
  {
   "cell_type": "code",
   "execution_count": 243,
   "metadata": {},
   "outputs": [
    {
     "data": {
      "text/plain": [
       "(-1.0, 1.0)"
      ]
     },
     "execution_count": 243,
     "metadata": {},
     "output_type": "execute_result"
    },
    {
     "data": {
      "image/png": "[encoded data removed]",
      "text/plain": [
       "<Figure size 432x288 with 1 Axes>"
      ]
     },
     "metadata": {
      "needs_background": "light"
     },
     "output_type": "display_data"
    }
   ],
   "source": [
    "plt.hist(theta, bins=80);\n",
    "plt.xlim(-1,1)"
   ]
  }
 ],
 "metadata": {
  "interpreter": {
   "hash": "fe3f05434994f8f40b62b7a842a4d284a09e5cdb62d98927152580f7c19a8881"
  },
  "kernelspec": {
   "display_name": "Python 3.9.11 ('base')",
   "language": "python",
   "name": "python3"
  },
  "language_info": {
   "codemirror_mode": {
    "name": "ipython",
    "version": 3
   },
   "file_extension": ".py",
   "mimetype": "text/x-python",
   "name": "python",
   "nbconvert_exporter": "python",
   "pygments_lexer": "ipython3",
   "version": "3.9.11"
  },
  "orig_nbformat": 4
 },
 "nbformat": 4,
 "nbformat_minor": 2
}

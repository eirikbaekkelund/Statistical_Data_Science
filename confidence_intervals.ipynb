{
 "cells": [
  {
   "cell_type": "code",
   "execution_count": 129,
   "metadata": {},
   "outputs": [],
   "source": [
    "import numpy as np\n",
    "import pandas as pd\n",
    "import torch.distributions as dst\n",
    "import scipy.stats as st"
   ]
  },
  {
   "cell_type": "code",
   "execution_count": 220,
   "metadata": {},
   "outputs": [],
   "source": [
    "def sample_uniform(n_samples=1000):\n",
    "    \"\"\"\n",
    "    Sample from a Uniform(-1,1) distribution\n",
    "\n",
    "    Parameters:\n",
    "    n_samples - number of samples to draw\n",
    "    \"\"\"\n",
    "    return dst.Uniform(-1,1).sample((n_samples,)).numpy()\n",
    "\n",
    "def sample_normal(mu, std_dev, n_samples=1000):\n",
    "    \"\"\"\n",
    "    Sample from a distribution of N(mu,std_dev)\n",
    "\n",
    "    Parameters:\n",
    "    mu - sampled mean from a Uniform(-1,1)\n",
    "    std_dev - the known standard deviation from the Normal distribution\n",
    "    n_samples - number of samples to draw from the distribution\n",
    "    \n",
    "    \"\"\"\n",
    "    return dst.Normal(loc=mu, scale=std_dev).sample((1000,)).numpy()\n",
    "\n",
    "def get_confidence_interval(normal, z_val, std_dev, n_samples):\n",
    "    \"\"\"\n",
    "    Get confidence interval for accepted mu samples\n",
    "    \n",
    "    Parameters:\n",
    "    normal - sample from a normal distribution\n",
    "    z_val - given z-score from the hypothesis test\n",
    "    std_dev - the known standard deviation from the normal distribution from which we sample\n",
    "    n_samples - number of samples in the normal sample\n",
    "    \"\"\"\n",
    "    \n",
    "    return (np.mean(normal) - (z_val*std_dev/np.sqrt(n_samples)), np.mean(normal) + (z_val*std_dev/np.sqrt(n_samples)))\n",
    "\n",
    "def hypothesis_test(alpha_level, n_samples=1000, n_normals=1000, std_dev=1):\n",
    "    \"\"\"\n",
    "    Run a hypothesis test of\n",
    "    H0: mu >= 0 vs.\n",
    "    H1: mu < 0 \n",
    "\n",
    "    with provided significance level alpha. We sample possible mu-s from\n",
    "    a Uniform(-1,1) and then get 1000 samples from a N(mu,1) distribution\n",
    "    and see the % of how often mu falls into the confidence inteval\n",
    "\n",
    "    Parameters:\n",
    "    alpha_level - significance level of the null hypothesis\n",
    "    n_samples - number of samples to get from the normal distribution\n",
    "    n_normals - number of normals to generate samples from per mu\n",
    "    std_dev - the \"known\" standard deviation for the normal distribution\n",
    "    \"\"\"\n",
    "    z_val = st.norm.ppf(1-(alpha_level/2))\n",
    "    mu_array = sample_uniform(n_samples=20)\n",
    "    count_mu_in_confidence = 0\n",
    "    count_null_accepted = 0\n",
    "   \n",
    "    total = 0\n",
    "\n",
    "    for mu in mu_array:\n",
    "       \n",
    "        for normal in [sample_normal(mu=mu, std_dev=std_dev, n_samples=n_samples) for _ in range(n_normals)]:\n",
    "            total += 1\n",
    "            # acceptance criterion for null hypothesis\n",
    "        \n",
    "            if st.norm.cdf( np.mean(normal)/(std_dev/np.sqrt(n_samples))) <= (1- alpha_level):\n",
    "                count_null_accepted += 1\n",
    "                confidence_interval = get_confidence_interval(normal=normal,\n",
    "                                                              z_val=z_val,\n",
    "                                                              std_dev=std_dev,\n",
    "                                                              n_samples=n_samples)\n",
    "                \n",
    "                if confidence_interval[0] <= mu <= confidence_interval[1]:\n",
    "                    count_mu_in_confidence += 1\n",
    "    print(\"mu ~ Uniform(-1, 1)\")\n",
    "    print(\"Sample from N(mu, 1)\\n\")\n",
    "    print(\"H0 : mu >= 0\\nH1 : mu < 0\\n\")\n",
    "    print(f\"Significance level: {alpha_level}\\n\")\n",
    "    print(\"Accepted ratio: \", count_null_accepted/total)\n",
    "    print(f\"Confidence Interval contains mu sample: {round(100*count_mu_in_confidence/count_null_accepted,2)}%\\n\")\n",
    "    print(\"------------------------------------------------------------------------------\")\n"
   ]
  },
  {
   "cell_type": "code",
   "execution_count": 221,
   "metadata": {},
   "outputs": [
    {
     "name": "stdout",
     "output_type": "stream",
     "text": [
      "mu ~ Uniform(-1, 1)\n",
      "Sample from N(mu, 1)\n",
      "\n",
      "H0 : mu >= 0\n",
      "H1 : mu < 0\n",
      "\n",
      "Significance level: 0.1\n",
      "\n",
      "Accepted ratio:  0.5995\n",
      "Confidence Interval contains mu sample: 90.58%\n",
      "\n",
      "------------------------------------------------------------------------------\n",
      "mu ~ Uniform(-1, 1)\n",
      "Sample from N(mu, 1)\n",
      "\n",
      "H0 : mu >= 0\n",
      "H1 : mu < 0\n",
      "\n",
      "Significance level: 0.01\n",
      "\n",
      "Accepted ratio:  0.4\n",
      "Confidence Interval contains mu sample: 98.88%\n",
      "\n",
      "------------------------------------------------------------------------------\n"
     ]
    }
   ],
   "source": [
    "for i in range(1,3):  \n",
    "    hypothesis_test(10**(-i), n_normals=100, n_samples=1000)\n",
    "\n",
    "\n"
   ]
  },
  {
   "cell_type": "code",
   "execution_count": 222,
   "metadata": {},
   "outputs": [
    {
     "name": "stdout",
     "output_type": "stream",
     "text": [
      "mu ~ Uniform(-1, 1)\n",
      "Sample from N(mu, 1)\n",
      "\n",
      "H0 : mu >= 0\n",
      "H1 : mu < 0\n",
      "\n",
      "Significance level: 0.05\n",
      "\n",
      "Accepted ratio:  0.488\n",
      "Confidence Interval contains mu sample: 94.47%\n",
      "\n",
      "------------------------------------------------------------------------------\n",
      "mu ~ Uniform(-1, 1)\n",
      "Sample from N(mu, 1)\n",
      "\n",
      "H0 : mu >= 0\n",
      "H1 : mu < 0\n",
      "\n",
      "Significance level: 0.025\n",
      "\n",
      "Accepted ratio:  0.525\n",
      "Confidence Interval contains mu sample: 96.95%\n",
      "\n",
      "------------------------------------------------------------------------------\n"
     ]
    }
   ],
   "source": [
    "hypothesis_test(0.05, n_normals=50)\n",
    "hypothesis_test(0.025, n_normals=50)"
   ]
  },
  {
   "cell_type": "code",
   "execution_count": null,
   "metadata": {},
   "outputs": [],
   "source": []
  },
  {
   "cell_type": "code",
   "execution_count": null,
   "metadata": {},
   "outputs": [],
   "source": []
  }
 ],
 "metadata": {
  "interpreter": {
   "hash": "fe3f05434994f8f40b62b7a842a4d284a09e5cdb62d98927152580f7c19a8881"
  },
  "kernelspec": {
   "display_name": "Python 3.9.11 ('base')",
   "language": "python",
   "name": "python3"
  },
  "language_info": {
   "codemirror_mode": {
    "name": "ipython",
    "version": 3
   },
   "file_extension": ".py",
   "mimetype": "text/x-python",
   "name": "python",
   "nbconvert_exporter": "python",
   "pygments_lexer": "ipython3",
   "version": "3.9.11"
  },
  "orig_nbformat": 4
 },
 "nbformat": 4,
 "nbformat_minor": 2
}

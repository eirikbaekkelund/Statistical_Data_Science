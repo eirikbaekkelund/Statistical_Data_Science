{
 "cells": [
  {
   "cell_type": "markdown",
   "metadata": {},
   "source": [
    "## Simulating a Wald Test on a Poisson Distribution"
   ]
  },
  {
   "cell_type": "code",
   "execution_count": 1,
   "metadata": {},
   "outputs": [],
   "source": [
    "import numpy as np\n",
    "import scipy.stats as stat"
   ]
  },
  {
   "cell_type": "code",
   "execution_count": 4,
   "metadata": {},
   "outputs": [
    {
     "data": {
      "text/plain": [
       "0.04"
      ]
     },
     "execution_count": 4,
     "metadata": {},
     "output_type": "execute_result"
    }
   ],
   "source": [
    "def wald_test(epochs, num_samples, alpha_size, lambda_null = 1):\n",
    "    \"\"\"\n",
    "    Runs a Wald test on a Poisson distribution of N samples.\n",
    "\n",
    "    Parameters:\n",
    "    num_samples - number of samples from Poisson distribution\n",
    "    lambda_null - mean of Poisson distribution\n",
    "    alpha_size - significance level (supremum for the value X can take in rejection region)\n",
    "\n",
    "    Returns:\n",
    "    reject_rate - rate of which we reject the null hypothesis\n",
    "    \"\"\"\n",
    "\n",
    "    decisions = []\n",
    "    z_value = stat.norm.ppf(1-alpha_size/2)\n",
    "    rng = np.random.default_rng(seed=12345)\n",
    "    \n",
    "    for _ in range(epochs):\n",
    "        X = rng.poisson(lam=lambda_null, size=num_samples)\n",
    "        \n",
    "        empirical_lambda = (1/num_samples)*np.sum(X)\n",
    "        empirical_std = np.sqrt(empirical_lambda/num_samples)\n",
    "        \n",
    "        confidence_interval = (empirical_lambda - empirical_std*z_value, empirical_lambda + empirical_std*z_value)\n",
    "        \n",
    "        # not reject null hypothesis if null hypothesis is in confidence interval\n",
    "        if confidence_interval[0] < lambda_null < confidence_interval[1]:\n",
    "            decisions.append(0)\n",
    "        # the negation --> reject null hypothesis\n",
    "        else:\n",
    "            decisions.append(1)\n",
    "\n",
    "    return np.sum(decisions)/epochs    \n",
    "\n",
    "for epochs in [10**j for j in range(2,6)]:\n",
    "    print(f\"Epochs: {epochs}\")\n",
    "    print(f\"Rejection rate: {wald_test(epochs=epochs, num_samples=20, alpha_size=0.05)}\\n\")"
   ]
  },
  {
   "cell_type": "code",
   "execution_count": 9,
   "metadata": {},
   "outputs": [
    {
     "name": "stdout",
     "output_type": "stream",
     "text": [
      "Epochs: 100\n",
      "Rejection rate: 0.05\n",
      "\n",
      "Epochs: 1000\n",
      "Rejection rate: 0.04\n",
      "\n",
      "Epochs: 10000\n",
      "Rejection rate: 0.0505\n",
      "\n",
      "Epochs: 100000\n",
      "Rejection rate: 0.05282\n",
      "\n"
     ]
    }
   ],
   "source": [
    "for epochs in [10**j for j in range(2,6)]:\n",
    "    print(f\"Epochs: {epochs}\")\n",
    "    print(f\"Rejection rate: {wald_test(epochs=epochs, num_samples=20, alpha_size=0.05)}\\n\")\n"
   ]
  },
  {
   "cell_type": "code",
   "execution_count": null,
   "metadata": {},
   "outputs": [],
   "source": []
  }
 ],
 "metadata": {
  "interpreter": {
   "hash": "fe3f05434994f8f40b62b7a842a4d284a09e5cdb62d98927152580f7c19a8881"
  },
  "kernelspec": {
   "display_name": "Python 3.9.11 ('base')",
   "language": "python",
   "name": "python3"
  },
  "language_info": {
   "codemirror_mode": {
    "name": "ipython",
    "version": 3
   },
   "file_extension": ".py",
   "mimetype": "text/x-python",
   "name": "python",
   "nbconvert_exporter": "python",
   "pygments_lexer": "ipython3",
   "version": "3.9.11"
  },
  "orig_nbformat": 4
 },
 "nbformat": 4,
 "nbformat_minor": 2
}

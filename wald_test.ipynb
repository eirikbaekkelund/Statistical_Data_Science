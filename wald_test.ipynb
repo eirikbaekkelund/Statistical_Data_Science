import numpy as np
import scipy.stats as stat

def wald_test(epochs, num_samples, alpha_size, lambda_null = 1):
    """
    Runs a Wald test on a Poisson distribution of N samples.

    Parameters:
    num_samples - number of samples from Poisson distribution
    lambda_null - mean of Poisson distribution
    alpha_size - significance level (supremum for the value X can take in rejection region)

    Returns:
    reject_rate - rate of which we reject the null hypothesis
    """

    decisions = []
    z_value = stat.norm.ppf(1-alpha_size/2)
    rng = np.random.default_rng(seed=12345)
    
    for _ in range(epochs):
        X = rng.poisson(lam=lambda_null, size=num_samples)
        
        empirical_lambda = (1/num_samples)*np.sum(X)
        empirical_std = np.sqrt(empirical_lambda/num_samples)
        
        confidence_interval = (empirical_lambda - empirical_std*z_value, empirical_lambda + empirical_std*z_value)
        
        # not reject null hypothesis if null hypothesis is in confidence interval
        if confidence_interval[0] < lambda_null < confidence_interval[1]:
            decisions.append(0)
        # the negation --> reject null hypothesis
        else:
            decisions.append(1)

    return np.sum(decisions)/epochs    

for epochs in [10**j for j in range(2,6)]:
    print(f"Epochs: {epochs}")
    print(f"Rejection rate: {wald_test(epochs=epochs, num_samples=20, alpha_size=0.05)}\n")

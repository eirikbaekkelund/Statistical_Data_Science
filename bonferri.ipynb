{
 "cells": [
  {
   "cell_type": "code",
   "execution_count": 18,
   "metadata": {},
   "outputs": [],
   "source": [
    "import numpy as np\n",
    "import math\n",
    "import scipy\n",
    "import stat"
   ]
  },
  {
   "cell_type": "code",
   "execution_count": 86,
   "metadata": {},
   "outputs": [],
   "source": [
    "def nCr(n,r):\n",
    "    \"\"\"\n",
    "    Returns number of possible combinations\n",
    "    between n and r without replacement\n",
    "    \"\"\"\n",
    "    f = math.factorial\n",
    "    return f(n) // f(r) // f(n-r)\n",
    "\n",
    "def binomial(n, k):\n",
    "    \"\"\"\n",
    "    Returns the probability of the binomial\n",
    "\n",
    "    \"\"\"\n",
    "    \n",
    "    return nCr(n,k) * (k/n)**k * ( (n-k) / n ) **(n-k) \n",
    "\n",
    "def probability(n,k):\n",
    "    return k/n\n",
    "\n",
    "def z_value(alpha):\n",
    "    return stat.norm.ppf(1-alpha/2)\n",
    "\n"
   ]
  },
  {
   "cell_type": "code",
   "execution_count": 93,
   "metadata": {},
   "outputs": [],
   "source": [
    "def wald_bonferroni(p1, n1, p2, n2):\n",
    "    \"\"\"\n",
    "    \n",
    "    \"\"\"\n",
    "    numerator = abs(p1-p2)\n",
    "    denominator = np.sqrt( (p1*(1-p1)/(n1)**2) + (p2*(1-p2)/(n2)**2) )\n",
    "    return np.abs(numerator/denominator)"
   ]
  },
  {
   "cell_type": "code",
   "execution_count": 94,
   "metadata": {},
   "outputs": [],
   "source": [
    "def bonferroni(list_k_tested, list_k_positive, alpha=0.05):\n",
    "    \n",
    "    assert(len(list_k_positive) == len(list_k_tested))\n",
    "    n1 = list_k_tested[0]\n",
    "    p1 = probability(n1, list_k_positive[0])\n",
    "    \n",
    "    for n_total, n_positives in zip(list_k_tested[1:], list_k_positive[1:]):\n",
    "        \n",
    "        p2 = probability(n_total, n_positives)\n",
    "        \n",
    "        print(wald_bonferroni(p1,n1,p2,n_total))\n",
    "        \n",
    "        if wald_bonferroni(p1,n1,p2,n_total) < alpha/(len(list_k_tested)-1):\n",
    "            return f\"Reject Null Hypothesis. P = {wald_bonferroni(p1,n1,p2,n_total)}\"\n",
    "    \n",
    "    return \"Fail to reject null hypothesis.\"    \n"
   ]
  },
  {
   "cell_type": "code",
   "execution_count": 95,
   "metadata": {},
   "outputs": [
    {
     "name": "stdout",
     "output_type": "stream",
     "text": [
      "80\n",
      "24.32678365469726\n",
      "80\n",
      "80\n",
      "5.83329628704336\n",
      "80\n",
      "80\n",
      "4.136522692180949\n",
      "80\n",
      "80\n",
      "14.942177562397145\n",
      "80\n"
     ]
    },
    {
     "data": {
      "text/plain": [
       "'Fail to reject null hypothesis.'"
      ]
     },
     "execution_count": 95,
     "metadata": {},
     "output_type": "execute_result"
    }
   ],
   "source": [
    "bonferroni((80,75,85,67,85), (45,26,52,35,37))"
   ]
  },
  {
   "cell_type": "code",
   "execution_count": null,
   "metadata": {},
   "outputs": [],
   "source": []
  },
  {
   "cell_type": "code",
   "execution_count": null,
   "metadata": {},
   "outputs": [],
   "source": []
  }
 ],
 "metadata": {
  "interpreter": {
   "hash": "fe3f05434994f8f40b62b7a842a4d284a09e5cdb62d98927152580f7c19a8881"
  },
  "kernelspec": {
   "display_name": "Python 3.9.11 ('base')",
   "language": "python",
   "name": "python3"
  },
  "language_info": {
   "codemirror_mode": {
    "name": "ipython",
    "version": 3
   },
   "file_extension": ".py",
   "mimetype": "text/x-python",
   "name": "python",
   "nbconvert_exporter": "python",
   "pygments_lexer": "ipython3",
   "version": "3.9.11"
  },
  "orig_nbformat": 4
 },
 "nbformat": 4,
 "nbformat_minor": 2
}
